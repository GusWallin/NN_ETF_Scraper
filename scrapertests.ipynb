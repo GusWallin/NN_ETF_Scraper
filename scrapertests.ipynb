{
 "cells": [
  {
   "cell_type": "code",
   "execution_count": 770,
   "metadata": {
    "tags": []
   },
   "outputs": [
    {
     "output_type": "execute_result",
     "data": {
      "text/plain": "     0                                                  1  \\\n0                                                    Namn   \n1  Köp                     Alpha Dividende Plus UCITS ETF   \n2  Köp  Bank of China International (BOCI) Commerzbank...   \n3  Köp  BlackRock iShares Core Global Aggregate Bond U...   \n4  Köp     BlackRock iShares FTSE MIB UCITS ETF EUR (Acc)   \n\n                                                   2  \\\n0                                                      \n1                     Alpha Dividende Plus UCITS ETF   \n2  Bank of China International (BOCI) Commerzbank...   \n3  BlackRock iShares Core Global Aggregate Bond U...   \n4     BlackRock iShares FTSE MIB UCITS ETF EUR (Acc)   \n\n                                                   3      4               5  \\\n0                                            1 vecka  1 mån           3 mån   \n1                     Alpha Dividende Plus UCITS ETF            -- 2 %2,00%   \n2  Bank of China International (BOCI) Commerzbank...         ++ 0.18 %0,18%   \n3  BlackRock iShares Core Global Aggregate Bond U...         ++ 0.62 %0,62%   \n4     BlackRock iShares FTSE MIB UCITS ETF EUR (Acc)         -- 1.47 %1,47%   \n\n                6                 7                 8                 9  \\\n0            i år              1 år              3 år              5 år   \n1  -- 2.69 %2,69%  -- 10.74 %10,74%  -- 19.55 %19,55%  -- 18.49 %18,49%   \n2  ++ 0.99 %0,99%  ++ 12.49 %12,49%    ++ 3.54 %3,54%    ++ 5.82 %5,82%   \n3  -- 0.43 %0,43%    ++ 1.15 %1,15%    ++ 3.43 %3,43%    ++ 1.83 %1,83%   \n4  -- 0.79 %0,79%    -- 3.54 %3,54%  -- 16.74 %16,74%  -- 10.19 %10,19%   \n\n                 10             11    12    13         14    15    16    17  \n0                             None  None  None       None  None  None  None  \n1   -- 18.1 %18,10%              –              Expandera                    \n2  ++ 16.56 %16,56%              –              Expandera                    \n3                 –              –              Expandera                    \n4    -- 3.57 %3,57%  ++ 2.4 %2,40%              Expandera                    ",
      "text/html": "<div>\n<style scoped>\n    .dataframe tbody tr th:only-of-type {\n        vertical-align: middle;\n    }\n\n    .dataframe tbody tr th {\n        vertical-align: top;\n    }\n\n    .dataframe thead th {\n        text-align: right;\n    }\n</style>\n<table border=\"1\" class=\"dataframe\">\n  <thead>\n    <tr style=\"text-align: right;\">\n      <th></th>\n      <th>0</th>\n      <th>1</th>\n      <th>2</th>\n      <th>3</th>\n      <th>4</th>\n      <th>5</th>\n      <th>6</th>\n      <th>7</th>\n      <th>8</th>\n      <th>9</th>\n      <th>10</th>\n      <th>11</th>\n      <th>12</th>\n      <th>13</th>\n      <th>14</th>\n      <th>15</th>\n      <th>16</th>\n      <th>17</th>\n    </tr>\n  </thead>\n  <tbody>\n    <tr>\n      <th>0</th>\n      <td></td>\n      <td>Namn</td>\n      <td></td>\n      <td>1 vecka</td>\n      <td>1 mån</td>\n      <td>3 mån</td>\n      <td>i år</td>\n      <td>1 år</td>\n      <td>3 år</td>\n      <td>5 år</td>\n      <td></td>\n      <td>None</td>\n      <td>None</td>\n      <td>None</td>\n      <td>None</td>\n      <td>None</td>\n      <td>None</td>\n      <td>None</td>\n    </tr>\n    <tr>\n      <th>1</th>\n      <td>Köp</td>\n      <td>Alpha Dividende Plus UCITS ETF</td>\n      <td>Alpha Dividende Plus UCITS ETF</td>\n      <td>Alpha Dividende Plus UCITS ETF</td>\n      <td></td>\n      <td>-- 2 %2,00%</td>\n      <td>-- 2.69 %2,69%</td>\n      <td>-- 10.74 %10,74%</td>\n      <td>-- 19.55 %19,55%</td>\n      <td>-- 18.49 %18,49%</td>\n      <td>-- 18.1 %18,10%</td>\n      <td>–</td>\n      <td></td>\n      <td></td>\n      <td>Expandera</td>\n      <td></td>\n      <td></td>\n      <td></td>\n    </tr>\n    <tr>\n      <th>2</th>\n      <td>Köp</td>\n      <td>Bank of China International (BOCI) Commerzbank...</td>\n      <td>Bank of China International (BOCI) Commerzbank...</td>\n      <td>Bank of China International (BOCI) Commerzbank...</td>\n      <td></td>\n      <td>++ 0.18 %0,18%</td>\n      <td>++ 0.99 %0,99%</td>\n      <td>++ 12.49 %12,49%</td>\n      <td>++ 3.54 %3,54%</td>\n      <td>++ 5.82 %5,82%</td>\n      <td>++ 16.56 %16,56%</td>\n      <td>–</td>\n      <td></td>\n      <td></td>\n      <td>Expandera</td>\n      <td></td>\n      <td></td>\n      <td></td>\n    </tr>\n    <tr>\n      <th>3</th>\n      <td>Köp</td>\n      <td>BlackRock iShares Core Global Aggregate Bond U...</td>\n      <td>BlackRock iShares Core Global Aggregate Bond U...</td>\n      <td>BlackRock iShares Core Global Aggregate Bond U...</td>\n      <td></td>\n      <td>++ 0.62 %0,62%</td>\n      <td>-- 0.43 %0,43%</td>\n      <td>++ 1.15 %1,15%</td>\n      <td>++ 3.43 %3,43%</td>\n      <td>++ 1.83 %1,83%</td>\n      <td>–</td>\n      <td>–</td>\n      <td></td>\n      <td></td>\n      <td>Expandera</td>\n      <td></td>\n      <td></td>\n      <td></td>\n    </tr>\n    <tr>\n      <th>4</th>\n      <td>Köp</td>\n      <td>BlackRock iShares FTSE MIB UCITS ETF EUR (Acc)</td>\n      <td>BlackRock iShares FTSE MIB UCITS ETF EUR (Acc)</td>\n      <td>BlackRock iShares FTSE MIB UCITS ETF EUR (Acc)</td>\n      <td></td>\n      <td>-- 1.47 %1,47%</td>\n      <td>-- 0.79 %0,79%</td>\n      <td>-- 3.54 %3,54%</td>\n      <td>-- 16.74 %16,74%</td>\n      <td>-- 10.19 %10,19%</td>\n      <td>-- 3.57 %3,57%</td>\n      <td>++ 2.4 %2,40%</td>\n      <td></td>\n      <td></td>\n      <td>Expandera</td>\n      <td></td>\n      <td></td>\n      <td></td>\n    </tr>\n  </tbody>\n</table>\n</div>"
     },
     "metadata": {},
     "execution_count": 770
    }
   ],
   "source": [
    "from bs4 import BeautifulSoup\n",
    "import requests\n",
    "import pandas as pd\n",
    "from tabulate import tabulate\n",
    "import numpy as np\n",
    "\n",
    "# load webpage content\n",
    "r = requests.get(\n",
    "    \"https://www.nordnet.se/marknaden/etf-listor?sortField=name&sortOrder=asc&selectedTab=historical\")\n",
    "\n",
    "# Convert to Beautiful Soup object and load table from the webpage. \n",
    "soup = BeautifulSoup(r.content, 'lxml')\n",
    "table = soup.find_all('table')[0]\n",
    "\n",
    "tab_data = [[cell.text for cell in row.find_all([\"th\", \"td\"])]\n",
    "            for row in table.find_all(\"tr\")]\n",
    "df = pd.DataFrame(tab_data)\n",
    "df.head()"
   ]
  },
  {
   "cell_type": "code",
   "execution_count": 771,
   "metadata": {},
   "outputs": [],
   "source": [
    "df.drop(columns=df.columns[12:], inplace=True)\n",
    "df.drop(columns=[0,2,3,4], inplace=True)\n",
    "df.drop(0, axis=0, inplace=True)"
   ]
  },
  {
   "cell_type": "code",
   "execution_count": 772,
   "metadata": {},
   "outputs": [
    {
     "output_type": "execute_result",
     "data": {
      "text/plain": "                                                  1               5   \\\n1                     Alpha Dividende Plus UCITS ETF     -- 2 %2,00%   \n2  Bank of China International (BOCI) Commerzbank...  ++ 0.18 %0,18%   \n3  BlackRock iShares Core Global Aggregate Bond U...  ++ 0.62 %0,62%   \n4     BlackRock iShares FTSE MIB UCITS ETF EUR (Acc)  -- 1.47 %1,47%   \n5  BlackRock iShares MSCI UK Small Cap UCITS ETF ...  -- 1.26 %1,26%   \n\n               6                 7                 8                 9   \\\n1  -- 2.69 %2,69%  -- 10.74 %10,74%  -- 19.55 %19,55%  -- 18.49 %18,49%   \n2  ++ 0.99 %0,99%  ++ 12.49 %12,49%    ++ 3.54 %3,54%    ++ 5.82 %5,82%   \n3  -- 0.43 %0,43%    ++ 1.15 %1,15%    ++ 3.43 %3,43%    ++ 1.83 %1,83%   \n4  -- 0.79 %0,79%    -- 3.54 %3,54%  -- 16.74 %16,74%  -- 10.19 %10,19%   \n5  ++ 1.22 %1,22%    -- 5.22 %5,22%  -- 24.97 %24,97%    -- 7.54 %7,54%   \n\n                 10              11  \n1   -- 18.1 %18,10%               –  \n2  ++ 16.56 %16,56%               –  \n3                 –               –  \n4    -- 3.57 %3,57%   ++ 2.4 %2,40%  \n5    -- 4.74 %4,74%  -- 5.42 %5,42%  ",
      "text/html": "<div>\n<style scoped>\n    .dataframe tbody tr th:only-of-type {\n        vertical-align: middle;\n    }\n\n    .dataframe tbody tr th {\n        vertical-align: top;\n    }\n\n    .dataframe thead th {\n        text-align: right;\n    }\n</style>\n<table border=\"1\" class=\"dataframe\">\n  <thead>\n    <tr style=\"text-align: right;\">\n      <th></th>\n      <th>1</th>\n      <th>5</th>\n      <th>6</th>\n      <th>7</th>\n      <th>8</th>\n      <th>9</th>\n      <th>10</th>\n      <th>11</th>\n    </tr>\n  </thead>\n  <tbody>\n    <tr>\n      <th>1</th>\n      <td>Alpha Dividende Plus UCITS ETF</td>\n      <td>-- 2 %2,00%</td>\n      <td>-- 2.69 %2,69%</td>\n      <td>-- 10.74 %10,74%</td>\n      <td>-- 19.55 %19,55%</td>\n      <td>-- 18.49 %18,49%</td>\n      <td>-- 18.1 %18,10%</td>\n      <td>–</td>\n    </tr>\n    <tr>\n      <th>2</th>\n      <td>Bank of China International (BOCI) Commerzbank...</td>\n      <td>++ 0.18 %0,18%</td>\n      <td>++ 0.99 %0,99%</td>\n      <td>++ 12.49 %12,49%</td>\n      <td>++ 3.54 %3,54%</td>\n      <td>++ 5.82 %5,82%</td>\n      <td>++ 16.56 %16,56%</td>\n      <td>–</td>\n    </tr>\n    <tr>\n      <th>3</th>\n      <td>BlackRock iShares Core Global Aggregate Bond U...</td>\n      <td>++ 0.62 %0,62%</td>\n      <td>-- 0.43 %0,43%</td>\n      <td>++ 1.15 %1,15%</td>\n      <td>++ 3.43 %3,43%</td>\n      <td>++ 1.83 %1,83%</td>\n      <td>–</td>\n      <td>–</td>\n    </tr>\n    <tr>\n      <th>4</th>\n      <td>BlackRock iShares FTSE MIB UCITS ETF EUR (Acc)</td>\n      <td>-- 1.47 %1,47%</td>\n      <td>-- 0.79 %0,79%</td>\n      <td>-- 3.54 %3,54%</td>\n      <td>-- 16.74 %16,74%</td>\n      <td>-- 10.19 %10,19%</td>\n      <td>-- 3.57 %3,57%</td>\n      <td>++ 2.4 %2,40%</td>\n    </tr>\n    <tr>\n      <th>5</th>\n      <td>BlackRock iShares MSCI UK Small Cap UCITS ETF ...</td>\n      <td>-- 1.26 %1,26%</td>\n      <td>++ 1.22 %1,22%</td>\n      <td>-- 5.22 %5,22%</td>\n      <td>-- 24.97 %24,97%</td>\n      <td>-- 7.54 %7,54%</td>\n      <td>-- 4.74 %4,74%</td>\n      <td>-- 5.42 %5,42%</td>\n    </tr>\n  </tbody>\n</table>\n</div>"
     },
     "metadata": {},
     "execution_count": 772
    }
   ],
   "source": [
    "df.head()"
   ]
  },
  {
   "cell_type": "code",
   "execution_count": 773,
   "metadata": {},
   "outputs": [],
   "source": [
    "df.columns = ['Namn','1 vecka', '1 mån', '3 mån','i år','1 år','3 år', '5 år']"
   ]
  },
  {
   "cell_type": "code",
   "execution_count": 774,
   "metadata": {},
   "outputs": [
    {
     "output_type": "execute_result",
     "data": {
      "text/plain": "                                                Namn         1 vecka  \\\n1                     Alpha Dividende Plus UCITS ETF     -- 2 %2,00%   \n2  Bank of China International (BOCI) Commerzbank...  ++ 0.18 %0,18%   \n3  BlackRock iShares Core Global Aggregate Bond U...  ++ 0.62 %0,62%   \n4     BlackRock iShares FTSE MIB UCITS ETF EUR (Acc)  -- 1.47 %1,47%   \n5  BlackRock iShares MSCI UK Small Cap UCITS ETF ...  -- 1.26 %1,26%   \n\n            1 mån             3 mån              i år              1 år  \\\n1  -- 2.69 %2,69%  -- 10.74 %10,74%  -- 19.55 %19,55%  -- 18.49 %18,49%   \n2  ++ 0.99 %0,99%  ++ 12.49 %12,49%    ++ 3.54 %3,54%    ++ 5.82 %5,82%   \n3  -- 0.43 %0,43%    ++ 1.15 %1,15%    ++ 3.43 %3,43%    ++ 1.83 %1,83%   \n4  -- 0.79 %0,79%    -- 3.54 %3,54%  -- 16.74 %16,74%  -- 10.19 %10,19%   \n5  ++ 1.22 %1,22%    -- 5.22 %5,22%  -- 24.97 %24,97%    -- 7.54 %7,54%   \n\n               3 år            5 år  \n1   -- 18.1 %18,10%               –  \n2  ++ 16.56 %16,56%               –  \n3                 –               –  \n4    -- 3.57 %3,57%   ++ 2.4 %2,40%  \n5    -- 4.74 %4,74%  -- 5.42 %5,42%  ",
      "text/html": "<div>\n<style scoped>\n    .dataframe tbody tr th:only-of-type {\n        vertical-align: middle;\n    }\n\n    .dataframe tbody tr th {\n        vertical-align: top;\n    }\n\n    .dataframe thead th {\n        text-align: right;\n    }\n</style>\n<table border=\"1\" class=\"dataframe\">\n  <thead>\n    <tr style=\"text-align: right;\">\n      <th></th>\n      <th>Namn</th>\n      <th>1 vecka</th>\n      <th>1 mån</th>\n      <th>3 mån</th>\n      <th>i år</th>\n      <th>1 år</th>\n      <th>3 år</th>\n      <th>5 år</th>\n    </tr>\n  </thead>\n  <tbody>\n    <tr>\n      <th>1</th>\n      <td>Alpha Dividende Plus UCITS ETF</td>\n      <td>-- 2 %2,00%</td>\n      <td>-- 2.69 %2,69%</td>\n      <td>-- 10.74 %10,74%</td>\n      <td>-- 19.55 %19,55%</td>\n      <td>-- 18.49 %18,49%</td>\n      <td>-- 18.1 %18,10%</td>\n      <td>–</td>\n    </tr>\n    <tr>\n      <th>2</th>\n      <td>Bank of China International (BOCI) Commerzbank...</td>\n      <td>++ 0.18 %0,18%</td>\n      <td>++ 0.99 %0,99%</td>\n      <td>++ 12.49 %12,49%</td>\n      <td>++ 3.54 %3,54%</td>\n      <td>++ 5.82 %5,82%</td>\n      <td>++ 16.56 %16,56%</td>\n      <td>–</td>\n    </tr>\n    <tr>\n      <th>3</th>\n      <td>BlackRock iShares Core Global Aggregate Bond U...</td>\n      <td>++ 0.62 %0,62%</td>\n      <td>-- 0.43 %0,43%</td>\n      <td>++ 1.15 %1,15%</td>\n      <td>++ 3.43 %3,43%</td>\n      <td>++ 1.83 %1,83%</td>\n      <td>–</td>\n      <td>–</td>\n    </tr>\n    <tr>\n      <th>4</th>\n      <td>BlackRock iShares FTSE MIB UCITS ETF EUR (Acc)</td>\n      <td>-- 1.47 %1,47%</td>\n      <td>-- 0.79 %0,79%</td>\n      <td>-- 3.54 %3,54%</td>\n      <td>-- 16.74 %16,74%</td>\n      <td>-- 10.19 %10,19%</td>\n      <td>-- 3.57 %3,57%</td>\n      <td>++ 2.4 %2,40%</td>\n    </tr>\n    <tr>\n      <th>5</th>\n      <td>BlackRock iShares MSCI UK Small Cap UCITS ETF ...</td>\n      <td>-- 1.26 %1,26%</td>\n      <td>++ 1.22 %1,22%</td>\n      <td>-- 5.22 %5,22%</td>\n      <td>-- 24.97 %24,97%</td>\n      <td>-- 7.54 %7,54%</td>\n      <td>-- 4.74 %4,74%</td>\n      <td>-- 5.42 %5,42%</td>\n    </tr>\n  </tbody>\n</table>\n</div>"
     },
     "metadata": {},
     "execution_count": 774
    }
   ],
   "source": [
    "df.head()"
   ]
  },
  {
   "cell_type": "code",
   "execution_count": 775,
   "metadata": {},
   "outputs": [
    {
     "output_type": "execute_result",
     "data": {
      "text/plain": "                                                Namn         1 vecka  \\\n1                     Alpha Dividende Plus UCITS ETF     -- 2 %2,00%   \n2  Bank of China International (BOCI) Commerzbank...  ++ 0.18 %0,18%   \n3  BlackRock iShares Core Global Aggregate Bond U...  ++ 0.62 %0,62%   \n4     BlackRock iShares FTSE MIB UCITS ETF EUR (Acc)  -- 1.47 %1,47%   \n5  BlackRock iShares MSCI UK Small Cap UCITS ETF ...  -- 1.26 %1,26%   \n\n            1 mån             3 mån              i år              1 år  \\\n1  -- 2.69 %2,69%  -- 10.74 %10,74%  -- 19.55 %19,55%  -- 18.49 %18,49%   \n2  ++ 0.99 %0,99%  ++ 12.49 %12,49%    ++ 3.54 %3,54%    ++ 5.82 %5,82%   \n3  -- 0.43 %0,43%    ++ 1.15 %1,15%    ++ 3.43 %3,43%    ++ 1.83 %1,83%   \n4  -- 0.79 %0,79%    -- 3.54 %3,54%  -- 16.74 %16,74%  -- 10.19 %10,19%   \n5  ++ 1.22 %1,22%    -- 5.22 %5,22%  -- 24.97 %24,97%    -- 7.54 %7,54%   \n\n               3 år            5 år  \n1   -- 18.1 %18,10%             NaN  \n2  ++ 16.56 %16,56%             NaN  \n3               NaN             NaN  \n4    -- 3.57 %3,57%   ++ 2.4 %2,40%  \n5    -- 4.74 %4,74%  -- 5.42 %5,42%  ",
      "text/html": "<div>\n<style scoped>\n    .dataframe tbody tr th:only-of-type {\n        vertical-align: middle;\n    }\n\n    .dataframe tbody tr th {\n        vertical-align: top;\n    }\n\n    .dataframe thead th {\n        text-align: right;\n    }\n</style>\n<table border=\"1\" class=\"dataframe\">\n  <thead>\n    <tr style=\"text-align: right;\">\n      <th></th>\n      <th>Namn</th>\n      <th>1 vecka</th>\n      <th>1 mån</th>\n      <th>3 mån</th>\n      <th>i år</th>\n      <th>1 år</th>\n      <th>3 år</th>\n      <th>5 år</th>\n    </tr>\n  </thead>\n  <tbody>\n    <tr>\n      <th>1</th>\n      <td>Alpha Dividende Plus UCITS ETF</td>\n      <td>-- 2 %2,00%</td>\n      <td>-- 2.69 %2,69%</td>\n      <td>-- 10.74 %10,74%</td>\n      <td>-- 19.55 %19,55%</td>\n      <td>-- 18.49 %18,49%</td>\n      <td>-- 18.1 %18,10%</td>\n      <td>NaN</td>\n    </tr>\n    <tr>\n      <th>2</th>\n      <td>Bank of China International (BOCI) Commerzbank...</td>\n      <td>++ 0.18 %0,18%</td>\n      <td>++ 0.99 %0,99%</td>\n      <td>++ 12.49 %12,49%</td>\n      <td>++ 3.54 %3,54%</td>\n      <td>++ 5.82 %5,82%</td>\n      <td>++ 16.56 %16,56%</td>\n      <td>NaN</td>\n    </tr>\n    <tr>\n      <th>3</th>\n      <td>BlackRock iShares Core Global Aggregate Bond U...</td>\n      <td>++ 0.62 %0,62%</td>\n      <td>-- 0.43 %0,43%</td>\n      <td>++ 1.15 %1,15%</td>\n      <td>++ 3.43 %3,43%</td>\n      <td>++ 1.83 %1,83%</td>\n      <td>NaN</td>\n      <td>NaN</td>\n    </tr>\n    <tr>\n      <th>4</th>\n      <td>BlackRock iShares FTSE MIB UCITS ETF EUR (Acc)</td>\n      <td>-- 1.47 %1,47%</td>\n      <td>-- 0.79 %0,79%</td>\n      <td>-- 3.54 %3,54%</td>\n      <td>-- 16.74 %16,74%</td>\n      <td>-- 10.19 %10,19%</td>\n      <td>-- 3.57 %3,57%</td>\n      <td>++ 2.4 %2,40%</td>\n    </tr>\n    <tr>\n      <th>5</th>\n      <td>BlackRock iShares MSCI UK Small Cap UCITS ETF ...</td>\n      <td>-- 1.26 %1,26%</td>\n      <td>++ 1.22 %1,22%</td>\n      <td>-- 5.22 %5,22%</td>\n      <td>-- 24.97 %24,97%</td>\n      <td>-- 7.54 %7,54%</td>\n      <td>-- 4.74 %4,74%</td>\n      <td>-- 5.42 %5,42%</td>\n    </tr>\n  </tbody>\n</table>\n</div>"
     },
     "metadata": {},
     "execution_count": 775
    }
   ],
   "source": [
    "df = df.applymap(lambda x: np.NaN if '–' in x else x)\n",
    "df.head()"
   ]
  },
  {
   "cell_type": "code",
   "execution_count": 776,
   "metadata": {},
   "outputs": [],
   "source": [
    "def clean_number(number):\n",
    "    str_number = str(number)\n",
    "    if not str_number or len(str_number)==0:\n",
    "        return np.nan\n",
    "    elif '0,00' in str_number:\n",
    "        return '0.00'  \n",
    "    elif '--' in str_number:       \n",
    "        return '-' + str_number.split(' ')[1]\n",
    "    elif '++' in str_number: \n",
    "        return str_number.split(' ')[1]\n",
    "    else: return number"
   ]
  },
  {
   "cell_type": "code",
   "execution_count": 777,
   "metadata": {
    "tags": []
   },
   "outputs": [
    {
     "output_type": "execute_result",
     "data": {
      "text/plain": "                                                Namn 1 vecka  1 mån   3 mån  \\\n1                     Alpha Dividende Plus UCITS ETF      -2  -2.69  -10.74   \n2  Bank of China International (BOCI) Commerzbank...    0.18   0.99   12.49   \n3  BlackRock iShares Core Global Aggregate Bond U...    0.62  -0.43    1.15   \n4     BlackRock iShares FTSE MIB UCITS ETF EUR (Acc)   -1.47  -0.79   -3.54   \n5  BlackRock iShares MSCI UK Small Cap UCITS ETF ...   -1.26   1.22   -5.22   \n\n     i år    1 år   3 år   5 år  \n1  -19.55  -18.49  -18.1    NaN  \n2    3.54    5.82  16.56    NaN  \n3    3.43    1.83    NaN    NaN  \n4  -16.74  -10.19  -3.57    2.4  \n5  -24.97   -7.54  -4.74  -5.42  ",
      "text/html": "<div>\n<style scoped>\n    .dataframe tbody tr th:only-of-type {\n        vertical-align: middle;\n    }\n\n    .dataframe tbody tr th {\n        vertical-align: top;\n    }\n\n    .dataframe thead th {\n        text-align: right;\n    }\n</style>\n<table border=\"1\" class=\"dataframe\">\n  <thead>\n    <tr style=\"text-align: right;\">\n      <th></th>\n      <th>Namn</th>\n      <th>1 vecka</th>\n      <th>1 mån</th>\n      <th>3 mån</th>\n      <th>i år</th>\n      <th>1 år</th>\n      <th>3 år</th>\n      <th>5 år</th>\n    </tr>\n  </thead>\n  <tbody>\n    <tr>\n      <th>1</th>\n      <td>Alpha Dividende Plus UCITS ETF</td>\n      <td>-2</td>\n      <td>-2.69</td>\n      <td>-10.74</td>\n      <td>-19.55</td>\n      <td>-18.49</td>\n      <td>-18.1</td>\n      <td>NaN</td>\n    </tr>\n    <tr>\n      <th>2</th>\n      <td>Bank of China International (BOCI) Commerzbank...</td>\n      <td>0.18</td>\n      <td>0.99</td>\n      <td>12.49</td>\n      <td>3.54</td>\n      <td>5.82</td>\n      <td>16.56</td>\n      <td>NaN</td>\n    </tr>\n    <tr>\n      <th>3</th>\n      <td>BlackRock iShares Core Global Aggregate Bond U...</td>\n      <td>0.62</td>\n      <td>-0.43</td>\n      <td>1.15</td>\n      <td>3.43</td>\n      <td>1.83</td>\n      <td>NaN</td>\n      <td>NaN</td>\n    </tr>\n    <tr>\n      <th>4</th>\n      <td>BlackRock iShares FTSE MIB UCITS ETF EUR (Acc)</td>\n      <td>-1.47</td>\n      <td>-0.79</td>\n      <td>-3.54</td>\n      <td>-16.74</td>\n      <td>-10.19</td>\n      <td>-3.57</td>\n      <td>2.4</td>\n    </tr>\n    <tr>\n      <th>5</th>\n      <td>BlackRock iShares MSCI UK Small Cap UCITS ETF ...</td>\n      <td>-1.26</td>\n      <td>1.22</td>\n      <td>-5.22</td>\n      <td>-24.97</td>\n      <td>-7.54</td>\n      <td>-4.74</td>\n      <td>-5.42</td>\n    </tr>\n  </tbody>\n</table>\n</div>"
     },
     "metadata": {},
     "execution_count": 777
    }
   ],
   "source": [
    "#print(df.dtypes)\n",
    "df = df.applymap(clean_number)\n",
    "df.head()"
   ]
  },
  {
   "cell_type": "code",
   "execution_count": 778,
   "metadata": {
    "tags": []
   },
   "outputs": [
    {
     "output_type": "stream",
     "name": "stdout",
     "text": "--  ---------------------------------------------------------------------------------------------------  -----  -----  ------  ------  ------  ------  ------\n 1  Alpha Dividende Plus UCITS ETF                                                                       -2     -2.69  -10.74  -19.55  -18.49  -18.1   nan\n 2  Bank of China International (BOCI) Commerzbank - Shanghai Stock Exchange 50 A Share Index UCITS ETF   0.18   0.99   12.49    3.54    5.82   16.56  nan\n 3  BlackRock iShares Core Global Aggregate Bond UCITS ETF EUR Acc Hdg                                    0.62  -0.43    1.15    3.43    1.83  nan     nan\n 4  BlackRock iShares FTSE MIB UCITS ETF EUR (Acc)                                                       -1.47  -0.79   -3.54  -16.74  -10.19   -3.57    2.4\n 5  BlackRock iShares MSCI UK Small Cap UCITS ETF GBP (Acc)                                              -1.26   1.22   -5.22  -24.97   -7.54   -4.74   -5.42\n 6  ComStage 10Y US-Treasury Future Short UCITS ETF                                                       0.79   1.21   -5.74  -12.86  -11.9    -6.11  nan\n 7  ComStage 10Y US-Treasury Future UCITS ETF                                                             0.54   0.57   -3.67    3.09    0.38   15.93  nan\n 8  ComStage 1 DAX UCITS ETF (I)                                                                         -0.02  -0.3    -1.74   -5.07    3.14   -4.17  nan\n 9  ComStage 1 DivDAX UCITS ETF (I)                                                                       1.64   1.3    -1.34   -8.27    1.18   -6.08  nan\n10  ComStage 1 EURO STOXX 50 UCITS ETF (I)                                                               -0.44  -1.95   -4.99  -13.63   -6.54   -4.96  nan\n11  ComStage 1 MDAX UCITS ETF (I)                                                                        -1.12  -0.79   -0.93   -5.45    3.05    2.91  nan\n12  ComStage 1 SDAX UCITS ETF (I)                                                                        -2.17   0.37    0.23   -2.93   10.07    0.86  nan\n13  ComStage 1 STOXX Europe 600 UCITS ETF                                                                -0.81  -2.52   -4.61  -13.25   -5.94  nan     nan\n14  ComStage ATX UCITS ETF                                                                               -0.43  -1.45  -12.47  -31.89  -25.97  -33.45   -1.06\n15  ComStage Bloomberg Equal-weight Commodity ex-Agriculture EUR hedged UCITS ETF                        -5.85  -2.93    9.67   -9.33   -8.71   -5.75  nan\n16  ComStage Bloomberg Equal-weight Commodity ex Agriculture UCITS ETF                                   -4.27  -3.33    5.76  -12.18  -12.4     4.65    7.47\n17  ComStage Bund-Future Double Short UCITS ETF                                                          -1.83  -0.01   -5.1    -8.13   -1.89  -24.86    0\n18  ComStage Bund-Future Leveraged UCITS ETF                                                              1.77  -0.76    4.54    6.08   -2.22   20.91   44.35\n19  ComStage Bund-Future Short UCITS ETF                                                                 -0.92  -0.04   -2.63   -4.35   -1.39  -14.37  -23.76\n20  ComStage Bund-Future UCITS ETF                                                                        0.89  -0.14    2.19    2.83   -1.56    8.47   18.13\n21  ComStage DAX UCITS ETF                                                                                0     -0.36   -1.73   -5.04    3.18   -4.07   12.19\n22  ComStage DivDAX UCITS ETF                                                                             1.64   1.4    -1.22   -8.09    1.36   -6.33    9.27\n23  ComStage Dow Jones Industrial Average UCITS ETF                                                      -1.29  -0.15   -4.04   -8.69   -3.18   30.37   67.93\n24  ComStage Dow Jones Switzerland Titans 30 UCITS ETF                                                   -0.23  -1.78   -0.57   -5.3     1.19   15.58   21.46\n25  ComStage EONIA Index UCITS ETF                                                                       -0.02  -0.03   -0.11   -0.54   -0.76   -1.81   -2.79\n26  ComStage EURO STOXX 50 Daily Leverage UCITS ETF                                                      -0.82   0.51   -6.74  -29.09  -17.63   -8.19   11.48\n27  ComStage EURO STOXX 50 Daily Short UCITS ETF                                                          0.22  -1.14    1.17    2.27   -6.41  -20.12  -37.39\n28  ComStage EURO STOXX Select Dividend 30 UCITS ETF                                                      0.29  -4.23  -10.39  -31.84  -25.2   -31.16  -17.05\n29  ComStage F.A.Z. Index UCITS ETF                                                                      -0.1   -0.06   -1.9    -7.46    0.12   -6.62   13.34\n30  ComStage FTSE China A50 UCITS ETF                                                                    -0.19   0.99    8.58    3.42    6.34   18.34   37.37\n31  ComStage HSCEI UCITS ETF                                                                             -0.55  -5.11   -9.31  -17.58  -11.84  -10.79    4.32\n32  ComStage HSI UCITS ETF                                                                               -0.88  -2.56   -8.62  -18.74  -13.95  -10.11   16.55\n33  ComStage iBOXX € Germany Covered Capped Overall UCITS ETF                                             0.45  -0.13    0.8     1.35   -1.01    2.79    3.79\n34  ComStage iBOXX € Liquid Sovereigns Diversified 15+ UCITS ETF                                          1.75  -3.22    6.38    6.99    0.82   28.75   40.39\n35  ComStage iBOXX € Liquid Sovereigns Diversified 25+ UCITS ETF                                          2.28  -3.78    5.56    7.76   -0.64   31.98   44.17\n36  ComStage iBOXX € Liquid Sovereigns Diversified 3m-1 UCITS ETF                                        -0.7   -1      -1.16   -1.25   -1.47   -4.98   -5.68\n37  ComStage iBOXX € Liquid Sovereigns Diversified Overall UCITS ETF                                      0.58  -1.23    0.85    1.21   -1.79    5.77   11.59\n38  ComStage iBOXX EUR Liquid Sovereigns Diversified 10-15 UCITS ETF                                      0.94  -4.05   -0.11   -0.03   -3.91    5.95   14.47\n39  ComStage iBOXX EUR Liquid Sovereigns Diversified 1-3 UCITS ETF                                        0.07  -0.21   -0.07   -0.59   -1.28   -2.22   -1.47\n40  ComStage iBOXX EUR Liquid Sovereigns Diversified 3-5 UCITS ETF                                       -0.81  -1.11   -0.66   -0.84   -1.97   -1.46    1.09\n41  ComStage iBOXX EUR Liquid Sovereigns Diversified 5-7 UCITS ETF                                        0.33  -1.26    0.82    0.5    -1.76    2.66    7.78\n42  ComStage iBOXX EUR Liquid Sovereigns Diversified 7-10 UCITS ETF                                       0.54  -1.23    1.09    1.41   -1.76    7.85   16.25\n43  ComStage iBOXX EUR Sovereigns Germany Capped 10+ UCITS ETF                                            1.77  -3.83    1.62    2.51   -3.55   10.75   19.23\n44  ComStage iBOXX EUR Sovereigns Germany Capped 1-5 UCITS ETF                                            0.12  -1      -0.98   -1.35   -2.51   -4.21   -3.75\n45  ComStage iBOXX EUR Sovereigns Germany Capped 3m-2 UCITS ETF                                           0     -0.88   -1.24   -1.73   -2.2    -5.09   -5.82\n46  ComStage iBOXX EUR Sovereigns Germany Capped 5-10 UCITS ETF                                           0.41  -1.38    0.34   -0.07   -2.73    1.99    6.1\n47  ComStage iBOXX EUR Sovereigns Inflation-Linked Euro-Inflation UCITS ETF                              -0.52  -2.43   -4.54   -1.99   -3.91    2.46    8.28\n48  ComStage MDAX UCITS ETF                                                                              -1.11  -0.79   -0.93   -5.48    2.99    2.86   27.35\n49  ComStage MSCI Emerging Markets Leveraged 2x Daily UCITS ETF                                          -1.39  -1.6     9.66  -14.63    3.18   -6.08   77.34\n50  ComStage MSCI Emerging Markets UCITS ETF                                                             -0.11  -2.95    0.47   -8.66    0.33    0.58   37.05\n--  ---------------------------------------------------------------------------------------------------  -----  -----  ------  ------  ------  ------  ------\n"
    }
   ],
   "source": [
    "print(tabulate(df))"
   ]
  },
  {
   "cell_type": "code",
   "execution_count": 779,
   "metadata": {},
   "outputs": [],
   "source": [
    "#df.sort_values(by='1 vecka')\n",
    "#df.dtypes\n",
    "#df.astype({'1 vecka': 'float32'}, copy=False).dtypes\n",
    "#df = df.astype({'5 år': 'float'}).dtypes\n",
    "#df['1 vecka'] = df['1 vecka'].astype('float')\n",
    "#df['1 mån'] = df['1 mån'].astype('float')\n",
    "#df.iloc[:,1:].astype('float')\n",
    "df = df.apply(pd.to_numeric, errors='ignore', axis=0)\n"
   ]
  },
  {
   "cell_type": "code",
   "execution_count": 780,
   "metadata": {},
   "outputs": [
    {
     "output_type": "execute_result",
     "data": {
      "text/plain": "Namn        object\n1 vecka    float64\n1 mån      float64\n3 mån      float64\ni år       float64\n1 år       float64\n3 år       float64\n5 år       float64\ndtype: object"
     },
     "metadata": {},
     "execution_count": 780
    }
   ],
   "source": [
    "df.dtypes"
   ]
  },
  {
   "cell_type": "code",
   "execution_count": 781,
   "metadata": {},
   "outputs": [],
   "source": [
    "\n",
    "#Rankar alla columner och lägger ihop per rad i en ny column kallad return ranking sum. Ju högre per column desto bättre, och mindre ranking total)\n",
    "df['Return ranking sum'] = df.iloc[:,1:].rank(0,method='min',ascending=False).sum(axis=1)\n",
    "#df.iloc[:,1:].rank(0,method='min',ascending=False,pct=False)"
   ]
  },
  {
   "cell_type": "code",
   "execution_count": 782,
   "metadata": {},
   "outputs": [
    {
     "output_type": "execute_result",
     "data": {
      "text/plain": "                                                Namn  1 vecka  1 mån  3 mån  \\\n1                     Alpha Dividende Plus UCITS ETF    -2.00  -2.69 -10.74   \n2  Bank of China International (BOCI) Commerzbank...     0.18   0.99  12.49   \n3  BlackRock iShares Core Global Aggregate Bond U...     0.62  -0.43   1.15   \n4     BlackRock iShares FTSE MIB UCITS ETF EUR (Acc)    -1.47  -0.79  -3.54   \n5  BlackRock iShares MSCI UK Small Cap UCITS ETF ...    -1.26   1.22  -5.22   \n\n    i år   1 år   3 år  5 år  Return ranking sum  \n1 -19.55 -18.49 -18.10   NaN               275.0  \n2   3.54   5.82  16.56   NaN                38.0  \n3   3.43   1.83    NaN   NaN                56.0  \n4 -16.74 -10.19  -3.57  2.40               240.0  \n5 -24.97  -7.54  -4.74 -5.42               238.0  ",
      "text/html": "<div>\n<style scoped>\n    .dataframe tbody tr th:only-of-type {\n        vertical-align: middle;\n    }\n\n    .dataframe tbody tr th {\n        vertical-align: top;\n    }\n\n    .dataframe thead th {\n        text-align: right;\n    }\n</style>\n<table border=\"1\" class=\"dataframe\">\n  <thead>\n    <tr style=\"text-align: right;\">\n      <th></th>\n      <th>Namn</th>\n      <th>1 vecka</th>\n      <th>1 mån</th>\n      <th>3 mån</th>\n      <th>i år</th>\n      <th>1 år</th>\n      <th>3 år</th>\n      <th>5 år</th>\n      <th>Return ranking sum</th>\n    </tr>\n  </thead>\n  <tbody>\n    <tr>\n      <th>1</th>\n      <td>Alpha Dividende Plus UCITS ETF</td>\n      <td>-2.00</td>\n      <td>-2.69</td>\n      <td>-10.74</td>\n      <td>-19.55</td>\n      <td>-18.49</td>\n      <td>-18.10</td>\n      <td>NaN</td>\n      <td>275.0</td>\n    </tr>\n    <tr>\n      <th>2</th>\n      <td>Bank of China International (BOCI) Commerzbank...</td>\n      <td>0.18</td>\n      <td>0.99</td>\n      <td>12.49</td>\n      <td>3.54</td>\n      <td>5.82</td>\n      <td>16.56</td>\n      <td>NaN</td>\n      <td>38.0</td>\n    </tr>\n    <tr>\n      <th>3</th>\n      <td>BlackRock iShares Core Global Aggregate Bond U...</td>\n      <td>0.62</td>\n      <td>-0.43</td>\n      <td>1.15</td>\n      <td>3.43</td>\n      <td>1.83</td>\n      <td>NaN</td>\n      <td>NaN</td>\n      <td>56.0</td>\n    </tr>\n    <tr>\n      <th>4</th>\n      <td>BlackRock iShares FTSE MIB UCITS ETF EUR (Acc)</td>\n      <td>-1.47</td>\n      <td>-0.79</td>\n      <td>-3.54</td>\n      <td>-16.74</td>\n      <td>-10.19</td>\n      <td>-3.57</td>\n      <td>2.40</td>\n      <td>240.0</td>\n    </tr>\n    <tr>\n      <th>5</th>\n      <td>BlackRock iShares MSCI UK Small Cap UCITS ETF ...</td>\n      <td>-1.26</td>\n      <td>1.22</td>\n      <td>-5.22</td>\n      <td>-24.97</td>\n      <td>-7.54</td>\n      <td>-4.74</td>\n      <td>-5.42</td>\n      <td>238.0</td>\n    </tr>\n  </tbody>\n</table>\n</div>"
     },
     "metadata": {},
     "execution_count": 782
    }
   ],
   "source": [
    "df.head()"
   ]
  },
  {
   "cell_type": "code",
   "execution_count": 783,
   "metadata": {},
   "outputs": [
    {
     "output_type": "execute_result",
     "data": {
      "text/plain": "                                                Namn  1 vecka  1 mån  3 mån  \\\n1                     Alpha Dividende Plus UCITS ETF    -2.00  -2.69 -10.74   \n2  Bank of China International (BOCI) Commerzbank...     0.18   0.99  12.49   \n3  BlackRock iShares Core Global Aggregate Bond U...     0.62  -0.43   1.15   \n4     BlackRock iShares FTSE MIB UCITS ETF EUR (Acc)    -1.47  -0.79  -3.54   \n5  BlackRock iShares MSCI UK Small Cap UCITS ETF ...    -1.26   1.22  -5.22   \n\n    i år   1 år   3 år  5 år  Return ranking sum  return ranking  \n1 -19.55 -18.49 -18.10   NaN               275.0            47.0  \n2   3.54   5.82  16.56   NaN                38.0             1.0  \n3   3.43   1.83    NaN   NaN                56.0             2.0  \n4 -16.74 -10.19  -3.57  2.40               240.0            44.0  \n5 -24.97  -7.54  -4.74 -5.42               238.0            43.0  ",
      "text/html": "<div>\n<style scoped>\n    .dataframe tbody tr th:only-of-type {\n        vertical-align: middle;\n    }\n\n    .dataframe tbody tr th {\n        vertical-align: top;\n    }\n\n    .dataframe thead th {\n        text-align: right;\n    }\n</style>\n<table border=\"1\" class=\"dataframe\">\n  <thead>\n    <tr style=\"text-align: right;\">\n      <th></th>\n      <th>Namn</th>\n      <th>1 vecka</th>\n      <th>1 mån</th>\n      <th>3 mån</th>\n      <th>i år</th>\n      <th>1 år</th>\n      <th>3 år</th>\n      <th>5 år</th>\n      <th>Return ranking sum</th>\n      <th>return ranking</th>\n    </tr>\n  </thead>\n  <tbody>\n    <tr>\n      <th>1</th>\n      <td>Alpha Dividende Plus UCITS ETF</td>\n      <td>-2.00</td>\n      <td>-2.69</td>\n      <td>-10.74</td>\n      <td>-19.55</td>\n      <td>-18.49</td>\n      <td>-18.10</td>\n      <td>NaN</td>\n      <td>275.0</td>\n      <td>47.0</td>\n    </tr>\n    <tr>\n      <th>2</th>\n      <td>Bank of China International (BOCI) Commerzbank...</td>\n      <td>0.18</td>\n      <td>0.99</td>\n      <td>12.49</td>\n      <td>3.54</td>\n      <td>5.82</td>\n      <td>16.56</td>\n      <td>NaN</td>\n      <td>38.0</td>\n      <td>1.0</td>\n    </tr>\n    <tr>\n      <th>3</th>\n      <td>BlackRock iShares Core Global Aggregate Bond U...</td>\n      <td>0.62</td>\n      <td>-0.43</td>\n      <td>1.15</td>\n      <td>3.43</td>\n      <td>1.83</td>\n      <td>NaN</td>\n      <td>NaN</td>\n      <td>56.0</td>\n      <td>2.0</td>\n    </tr>\n    <tr>\n      <th>4</th>\n      <td>BlackRock iShares FTSE MIB UCITS ETF EUR (Acc)</td>\n      <td>-1.47</td>\n      <td>-0.79</td>\n      <td>-3.54</td>\n      <td>-16.74</td>\n      <td>-10.19</td>\n      <td>-3.57</td>\n      <td>2.40</td>\n      <td>240.0</td>\n      <td>44.0</td>\n    </tr>\n    <tr>\n      <th>5</th>\n      <td>BlackRock iShares MSCI UK Small Cap UCITS ETF ...</td>\n      <td>-1.26</td>\n      <td>1.22</td>\n      <td>-5.22</td>\n      <td>-24.97</td>\n      <td>-7.54</td>\n      <td>-4.74</td>\n      <td>-5.42</td>\n      <td>238.0</td>\n      <td>43.0</td>\n    </tr>\n  </tbody>\n</table>\n</div>"
     },
     "metadata": {},
     "execution_count": 783
    }
   ],
   "source": [
    "# ger varje rad en ranking baserad på dess return ranking sum. lägre 'Return ranking sum' är bättre (fler höga placeringar i ranking). \n",
    "df['return ranking'] = df.iloc[:,-1:].rank(0,method='min',ascending=True,pct=False)\n",
    "df.head()"
   ]
  },
  {
   "cell_type": "code",
   "execution_count": 784,
   "metadata": {},
   "outputs": [],
   "source": [
    "#skapar fält med return ranking sum/antalet datapunkter - Nan värden. Då vi inte har data för exempelvis 5år för alla finansiella instrument. \n",
    "df['avg return ranking'] = df['Return ranking sum']/(len(df.columns[1:8]) -df.isnull().sum(axis=1))\n",
    "df['avg return ranking'] = df['avg return ranking'].rank(0,method='min',ascending=True)"
   ]
  },
  {
   "cell_type": "code",
   "execution_count": 785,
   "metadata": {},
   "outputs": [
    {
     "output_type": "execute_result",
     "data": {
      "text/plain": "                                                Namn  1 vecka  1 mån  3 mån  \\\n1                     Alpha Dividende Plus UCITS ETF    -2.00  -2.69 -10.74   \n2  Bank of China International (BOCI) Commerzbank...     0.18   0.99  12.49   \n3  BlackRock iShares Core Global Aggregate Bond U...     0.62  -0.43   1.15   \n4     BlackRock iShares FTSE MIB UCITS ETF EUR (Acc)    -1.47  -0.79  -3.54   \n5  BlackRock iShares MSCI UK Small Cap UCITS ETF ...    -1.26   1.22  -5.22   \n\n    i år   1 år   3 år  5 år  Return ranking sum  return ranking  \\\n1 -19.55 -18.49 -18.10   NaN               275.0            47.0   \n2   3.54   5.82  16.56   NaN                38.0             1.0   \n3   3.43   1.83    NaN   NaN                56.0             2.0   \n4 -16.74 -10.19  -3.57  2.40               240.0            44.0   \n5 -24.97  -7.54  -4.74 -5.42               238.0            43.0   \n\n   avg return ranking  \n1                50.0  \n2                 1.0  \n3                 6.0  \n4                41.0  \n5                40.0  ",
      "text/html": "<div>\n<style scoped>\n    .dataframe tbody tr th:only-of-type {\n        vertical-align: middle;\n    }\n\n    .dataframe tbody tr th {\n        vertical-align: top;\n    }\n\n    .dataframe thead th {\n        text-align: right;\n    }\n</style>\n<table border=\"1\" class=\"dataframe\">\n  <thead>\n    <tr style=\"text-align: right;\">\n      <th></th>\n      <th>Namn</th>\n      <th>1 vecka</th>\n      <th>1 mån</th>\n      <th>3 mån</th>\n      <th>i år</th>\n      <th>1 år</th>\n      <th>3 år</th>\n      <th>5 år</th>\n      <th>Return ranking sum</th>\n      <th>return ranking</th>\n      <th>avg return ranking</th>\n    </tr>\n  </thead>\n  <tbody>\n    <tr>\n      <th>1</th>\n      <td>Alpha Dividende Plus UCITS ETF</td>\n      <td>-2.00</td>\n      <td>-2.69</td>\n      <td>-10.74</td>\n      <td>-19.55</td>\n      <td>-18.49</td>\n      <td>-18.10</td>\n      <td>NaN</td>\n      <td>275.0</td>\n      <td>47.0</td>\n      <td>50.0</td>\n    </tr>\n    <tr>\n      <th>2</th>\n      <td>Bank of China International (BOCI) Commerzbank...</td>\n      <td>0.18</td>\n      <td>0.99</td>\n      <td>12.49</td>\n      <td>3.54</td>\n      <td>5.82</td>\n      <td>16.56</td>\n      <td>NaN</td>\n      <td>38.0</td>\n      <td>1.0</td>\n      <td>1.0</td>\n    </tr>\n    <tr>\n      <th>3</th>\n      <td>BlackRock iShares Core Global Aggregate Bond U...</td>\n      <td>0.62</td>\n      <td>-0.43</td>\n      <td>1.15</td>\n      <td>3.43</td>\n      <td>1.83</td>\n      <td>NaN</td>\n      <td>NaN</td>\n      <td>56.0</td>\n      <td>2.0</td>\n      <td>6.0</td>\n    </tr>\n    <tr>\n      <th>4</th>\n      <td>BlackRock iShares FTSE MIB UCITS ETF EUR (Acc)</td>\n      <td>-1.47</td>\n      <td>-0.79</td>\n      <td>-3.54</td>\n      <td>-16.74</td>\n      <td>-10.19</td>\n      <td>-3.57</td>\n      <td>2.40</td>\n      <td>240.0</td>\n      <td>44.0</td>\n      <td>41.0</td>\n    </tr>\n    <tr>\n      <th>5</th>\n      <td>BlackRock iShares MSCI UK Small Cap UCITS ETF ...</td>\n      <td>-1.26</td>\n      <td>1.22</td>\n      <td>-5.22</td>\n      <td>-24.97</td>\n      <td>-7.54</td>\n      <td>-4.74</td>\n      <td>-5.42</td>\n      <td>238.0</td>\n      <td>43.0</td>\n      <td>40.0</td>\n    </tr>\n  </tbody>\n</table>\n</div>"
     },
     "metadata": {},
     "execution_count": 785
    }
   ],
   "source": [
    "df.head()"
   ]
  },
  {
   "cell_type": "code",
   "execution_count": 740,
   "metadata": {},
   "outputs": [],
   "source": []
  },
  {
   "cell_type": "code",
   "execution_count": 787,
   "metadata": {},
   "outputs": [],
   "source": [
    "#df['never negative'] = (df.iloc[0:-1]>0).all()\n",
    "#df.any(axis=1, skipna=True)\n",
    "#df.head()\n",
    "df['never returned negative'] = (df.iloc[:,1:7] > 0).all(1)"
   ]
  },
  {
   "cell_type": "code",
   "execution_count": 788,
   "metadata": {},
   "outputs": [
    {
     "output_type": "execute_result",
     "data": {
      "text/plain": "                                                Namn  1 vecka  1 mån  3 mån  \\\n1                     Alpha Dividende Plus UCITS ETF    -2.00  -2.69 -10.74   \n2  Bank of China International (BOCI) Commerzbank...     0.18   0.99  12.49   \n3  BlackRock iShares Core Global Aggregate Bond U...     0.62  -0.43   1.15   \n4     BlackRock iShares FTSE MIB UCITS ETF EUR (Acc)    -1.47  -0.79  -3.54   \n5  BlackRock iShares MSCI UK Small Cap UCITS ETF ...    -1.26   1.22  -5.22   \n\n    i år   1 år   3 år  5 år  Return ranking sum  return ranking  \\\n1 -19.55 -18.49 -18.10   NaN               275.0            47.0   \n2   3.54   5.82  16.56   NaN                38.0             1.0   \n3   3.43   1.83    NaN   NaN                56.0             2.0   \n4 -16.74 -10.19  -3.57  2.40               240.0            44.0   \n5 -24.97  -7.54  -4.74 -5.42               238.0            43.0   \n\n   avg return ranking  never returned negative  \n1                50.0                    False  \n2                 1.0                     True  \n3                 6.0                    False  \n4                41.0                    False  \n5                40.0                    False  ",
      "text/html": "<div>\n<style scoped>\n    .dataframe tbody tr th:only-of-type {\n        vertical-align: middle;\n    }\n\n    .dataframe tbody tr th {\n        vertical-align: top;\n    }\n\n    .dataframe thead th {\n        text-align: right;\n    }\n</style>\n<table border=\"1\" class=\"dataframe\">\n  <thead>\n    <tr style=\"text-align: right;\">\n      <th></th>\n      <th>Namn</th>\n      <th>1 vecka</th>\n      <th>1 mån</th>\n      <th>3 mån</th>\n      <th>i år</th>\n      <th>1 år</th>\n      <th>3 år</th>\n      <th>5 år</th>\n      <th>Return ranking sum</th>\n      <th>return ranking</th>\n      <th>avg return ranking</th>\n      <th>never returned negative</th>\n    </tr>\n  </thead>\n  <tbody>\n    <tr>\n      <th>1</th>\n      <td>Alpha Dividende Plus UCITS ETF</td>\n      <td>-2.00</td>\n      <td>-2.69</td>\n      <td>-10.74</td>\n      <td>-19.55</td>\n      <td>-18.49</td>\n      <td>-18.10</td>\n      <td>NaN</td>\n      <td>275.0</td>\n      <td>47.0</td>\n      <td>50.0</td>\n      <td>False</td>\n    </tr>\n    <tr>\n      <th>2</th>\n      <td>Bank of China International (BOCI) Commerzbank...</td>\n      <td>0.18</td>\n      <td>0.99</td>\n      <td>12.49</td>\n      <td>3.54</td>\n      <td>5.82</td>\n      <td>16.56</td>\n      <td>NaN</td>\n      <td>38.0</td>\n      <td>1.0</td>\n      <td>1.0</td>\n      <td>True</td>\n    </tr>\n    <tr>\n      <th>3</th>\n      <td>BlackRock iShares Core Global Aggregate Bond U...</td>\n      <td>0.62</td>\n      <td>-0.43</td>\n      <td>1.15</td>\n      <td>3.43</td>\n      <td>1.83</td>\n      <td>NaN</td>\n      <td>NaN</td>\n      <td>56.0</td>\n      <td>2.0</td>\n      <td>6.0</td>\n      <td>False</td>\n    </tr>\n    <tr>\n      <th>4</th>\n      <td>BlackRock iShares FTSE MIB UCITS ETF EUR (Acc)</td>\n      <td>-1.47</td>\n      <td>-0.79</td>\n      <td>-3.54</td>\n      <td>-16.74</td>\n      <td>-10.19</td>\n      <td>-3.57</td>\n      <td>2.40</td>\n      <td>240.0</td>\n      <td>44.0</td>\n      <td>41.0</td>\n      <td>False</td>\n    </tr>\n    <tr>\n      <th>5</th>\n      <td>BlackRock iShares MSCI UK Small Cap UCITS ETF ...</td>\n      <td>-1.26</td>\n      <td>1.22</td>\n      <td>-5.22</td>\n      <td>-24.97</td>\n      <td>-7.54</td>\n      <td>-4.74</td>\n      <td>-5.42</td>\n      <td>238.0</td>\n      <td>43.0</td>\n      <td>40.0</td>\n      <td>False</td>\n    </tr>\n  </tbody>\n</table>\n</div>"
     },
     "metadata": {},
     "execution_count": 788
    }
   ],
   "source": [
    "df.head()"
   ]
  },
  {
   "cell_type": "code",
   "execution_count": 789,
   "metadata": {},
   "outputs": [],
   "source": [
    "#df.to_csv('EFT_test_data.csv')"
   ]
  },
  {
   "cell_type": "code",
   "execution_count": 847,
   "metadata": {},
   "outputs": [],
   "source": [
    "df = pd.read_csv('ETF_data_total.csv', index_col=0)\n",
    "#df.duplicated('Namn')"
   ]
  },
  {
   "cell_type": "code",
   "execution_count": 848,
   "metadata": {},
   "outputs": [
    {
     "output_type": "execute_result",
     "data": {
      "text/plain": "                                                Namn  1 vecka  1 mån  3 mån  \\\n1                     Alpha Dividende Plus UCITS ETF    -2.00  -2.69 -10.74   \n2  Bank of China International (BOCI) Commerzbank...     0.18   0.99  12.49   \n3  BlackRock iShares Core Global Aggregate Bond U...     0.62  -0.43   1.15   \n4     BlackRock iShares FTSE MIB UCITS ETF EUR (Acc)    -1.47  -0.79  -3.54   \n5  BlackRock iShares MSCI UK Small Cap UCITS ETF ...    -1.26   1.22  -5.22   \n\n    i år   1 år   3 år  5 år  Return ranking sum  return ranking  \\\n1 -19.55 -18.49 -18.10   NaN              4758.0           926.0   \n2   3.54   5.82  16.56   NaN               930.0            22.0   \n3   3.43   1.83    NaN   NaN              1458.0            90.0   \n4 -16.74 -10.19  -3.57  2.40              4395.0           890.0   \n5 -24.97  -7.54  -4.74 -5.42              4038.0           840.0   \n\n   avg return ranking  never returned negative  \n1               956.0                    False  \n2                16.0                    False  \n3               167.0                    False  \n4               830.0                    False  \n5               753.0                    False  ",
      "text/html": "<div>\n<style scoped>\n    .dataframe tbody tr th:only-of-type {\n        vertical-align: middle;\n    }\n\n    .dataframe tbody tr th {\n        vertical-align: top;\n    }\n\n    .dataframe thead th {\n        text-align: right;\n    }\n</style>\n<table border=\"1\" class=\"dataframe\">\n  <thead>\n    <tr style=\"text-align: right;\">\n      <th></th>\n      <th>Namn</th>\n      <th>1 vecka</th>\n      <th>1 mån</th>\n      <th>3 mån</th>\n      <th>i år</th>\n      <th>1 år</th>\n      <th>3 år</th>\n      <th>5 år</th>\n      <th>Return ranking sum</th>\n      <th>return ranking</th>\n      <th>avg return ranking</th>\n      <th>never returned negative</th>\n    </tr>\n  </thead>\n  <tbody>\n    <tr>\n      <th>1</th>\n      <td>Alpha Dividende Plus UCITS ETF</td>\n      <td>-2.00</td>\n      <td>-2.69</td>\n      <td>-10.74</td>\n      <td>-19.55</td>\n      <td>-18.49</td>\n      <td>-18.10</td>\n      <td>NaN</td>\n      <td>4758.0</td>\n      <td>926.0</td>\n      <td>956.0</td>\n      <td>False</td>\n    </tr>\n    <tr>\n      <th>2</th>\n      <td>Bank of China International (BOCI) Commerzbank...</td>\n      <td>0.18</td>\n      <td>0.99</td>\n      <td>12.49</td>\n      <td>3.54</td>\n      <td>5.82</td>\n      <td>16.56</td>\n      <td>NaN</td>\n      <td>930.0</td>\n      <td>22.0</td>\n      <td>16.0</td>\n      <td>False</td>\n    </tr>\n    <tr>\n      <th>3</th>\n      <td>BlackRock iShares Core Global Aggregate Bond U...</td>\n      <td>0.62</td>\n      <td>-0.43</td>\n      <td>1.15</td>\n      <td>3.43</td>\n      <td>1.83</td>\n      <td>NaN</td>\n      <td>NaN</td>\n      <td>1458.0</td>\n      <td>90.0</td>\n      <td>167.0</td>\n      <td>False</td>\n    </tr>\n    <tr>\n      <th>4</th>\n      <td>BlackRock iShares FTSE MIB UCITS ETF EUR (Acc)</td>\n      <td>-1.47</td>\n      <td>-0.79</td>\n      <td>-3.54</td>\n      <td>-16.74</td>\n      <td>-10.19</td>\n      <td>-3.57</td>\n      <td>2.40</td>\n      <td>4395.0</td>\n      <td>890.0</td>\n      <td>830.0</td>\n      <td>False</td>\n    </tr>\n    <tr>\n      <th>5</th>\n      <td>BlackRock iShares MSCI UK Small Cap UCITS ETF ...</td>\n      <td>-1.26</td>\n      <td>1.22</td>\n      <td>-5.22</td>\n      <td>-24.97</td>\n      <td>-7.54</td>\n      <td>-4.74</td>\n      <td>-5.42</td>\n      <td>4038.0</td>\n      <td>840.0</td>\n      <td>753.0</td>\n      <td>False</td>\n    </tr>\n  </tbody>\n</table>\n</div>"
     },
     "metadata": {},
     "execution_count": 848
    }
   ],
   "source": [
    "df.head()"
   ]
  },
  {
   "cell_type": "code",
   "execution_count": 849,
   "metadata": {},
   "outputs": [
    {
     "output_type": "execute_result",
     "data": {
      "text/plain": "5"
     },
     "metadata": {},
     "execution_count": 849
    }
   ],
   "source": [
    "df.duplicated('Namn').sum(0)\n"
   ]
  },
  {
   "cell_type": "code",
   "execution_count": 850,
   "metadata": {},
   "outputs": [
    {
     "output_type": "execute_result",
     "data": {
      "text/plain": "                                     Namn  1 vecka  1 mån  3 mån   i år  \\\n129      Invesco JPX-Nikkei 400 UCITS ETF    -0.46   3.63  -0.83  -5.53   \n130      Invesco JPX-Nikkei 400 UCITS ETF     0.82   3.86  -2.84  -7.07   \n533  JPM USD Ultra-Short Income UCITS ETF    -0.16  -3.08  -3.08  -3.36   \n534  JPM USD Ultra-Short Income UCITS ETF    -0.29   0.38  -3.69  -4.60   \n761                                   NaN    -3.90  -1.80   5.31  15.39   \n763                                   NaN     1.49   1.49  -2.17  -8.44   \n770                                   NaN     0.29   1.33   5.57 -10.37   \n776                                   NaN     0.39  -2.14  12.86 -10.78   \n\n      1 år   3 år   5 år  Return ranking sum  return ranking  \\\n129   6.22   4.70  15.67              2184.0           363.0   \n130   2.02  11.30  30.03              1918.0           261.0   \n533  -3.71    NaN    NaN              2942.0           631.0   \n534  -5.93    NaN    NaN              2560.0           508.0   \n761  25.13    NaN    NaN              1906.0           256.0   \n763  -5.25    NaN    NaN              1954.0           279.0   \n770  -7.42  -3.86    NaN              2254.0           383.0   \n776  -5.97   0.13    NaN              2803.0           580.0   \n\n     avg return ranking  never returned negative  \n129               217.0                    False  \n130               123.0                    False  \n533               776.0                    False  \n534               654.0                    False  \n761               597.0                    False  \n763               619.0                    False  \n770               557.0                    False  \n776               720.0                    False  ",
      "text/html": "<div>\n<style scoped>\n    .dataframe tbody tr th:only-of-type {\n        vertical-align: middle;\n    }\n\n    .dataframe tbody tr th {\n        vertical-align: top;\n    }\n\n    .dataframe thead th {\n        text-align: right;\n    }\n</style>\n<table border=\"1\" class=\"dataframe\">\n  <thead>\n    <tr style=\"text-align: right;\">\n      <th></th>\n      <th>Namn</th>\n      <th>1 vecka</th>\n      <th>1 mån</th>\n      <th>3 mån</th>\n      <th>i år</th>\n      <th>1 år</th>\n      <th>3 år</th>\n      <th>5 år</th>\n      <th>Return ranking sum</th>\n      <th>return ranking</th>\n      <th>avg return ranking</th>\n      <th>never returned negative</th>\n    </tr>\n  </thead>\n  <tbody>\n    <tr>\n      <th>129</th>\n      <td>Invesco JPX-Nikkei 400 UCITS ETF</td>\n      <td>-0.46</td>\n      <td>3.63</td>\n      <td>-0.83</td>\n      <td>-5.53</td>\n      <td>6.22</td>\n      <td>4.70</td>\n      <td>15.67</td>\n      <td>2184.0</td>\n      <td>363.0</td>\n      <td>217.0</td>\n      <td>False</td>\n    </tr>\n    <tr>\n      <th>130</th>\n      <td>Invesco JPX-Nikkei 400 UCITS ETF</td>\n      <td>0.82</td>\n      <td>3.86</td>\n      <td>-2.84</td>\n      <td>-7.07</td>\n      <td>2.02</td>\n      <td>11.30</td>\n      <td>30.03</td>\n      <td>1918.0</td>\n      <td>261.0</td>\n      <td>123.0</td>\n      <td>False</td>\n    </tr>\n    <tr>\n      <th>533</th>\n      <td>JPM USD Ultra-Short Income UCITS ETF</td>\n      <td>-0.16</td>\n      <td>-3.08</td>\n      <td>-3.08</td>\n      <td>-3.36</td>\n      <td>-3.71</td>\n      <td>NaN</td>\n      <td>NaN</td>\n      <td>2942.0</td>\n      <td>631.0</td>\n      <td>776.0</td>\n      <td>False</td>\n    </tr>\n    <tr>\n      <th>534</th>\n      <td>JPM USD Ultra-Short Income UCITS ETF</td>\n      <td>-0.29</td>\n      <td>0.38</td>\n      <td>-3.69</td>\n      <td>-4.60</td>\n      <td>-5.93</td>\n      <td>NaN</td>\n      <td>NaN</td>\n      <td>2560.0</td>\n      <td>508.0</td>\n      <td>654.0</td>\n      <td>False</td>\n    </tr>\n    <tr>\n      <th>761</th>\n      <td>NaN</td>\n      <td>-3.90</td>\n      <td>-1.80</td>\n      <td>5.31</td>\n      <td>15.39</td>\n      <td>25.13</td>\n      <td>NaN</td>\n      <td>NaN</td>\n      <td>1906.0</td>\n      <td>256.0</td>\n      <td>597.0</td>\n      <td>False</td>\n    </tr>\n    <tr>\n      <th>763</th>\n      <td>NaN</td>\n      <td>1.49</td>\n      <td>1.49</td>\n      <td>-2.17</td>\n      <td>-8.44</td>\n      <td>-5.25</td>\n      <td>NaN</td>\n      <td>NaN</td>\n      <td>1954.0</td>\n      <td>279.0</td>\n      <td>619.0</td>\n      <td>False</td>\n    </tr>\n    <tr>\n      <th>770</th>\n      <td>NaN</td>\n      <td>0.29</td>\n      <td>1.33</td>\n      <td>5.57</td>\n      <td>-10.37</td>\n      <td>-7.42</td>\n      <td>-3.86</td>\n      <td>NaN</td>\n      <td>2254.0</td>\n      <td>383.0</td>\n      <td>557.0</td>\n      <td>False</td>\n    </tr>\n    <tr>\n      <th>776</th>\n      <td>NaN</td>\n      <td>0.39</td>\n      <td>-2.14</td>\n      <td>12.86</td>\n      <td>-10.78</td>\n      <td>-5.97</td>\n      <td>0.13</td>\n      <td>NaN</td>\n      <td>2803.0</td>\n      <td>580.0</td>\n      <td>720.0</td>\n      <td>False</td>\n    </tr>\n  </tbody>\n</table>\n</div>"
     },
     "metadata": {},
     "execution_count": 850
    }
   ],
   "source": [
    "df[df.duplicated(['Namn'], keep=False)]"
   ]
  },
  {
   "cell_type": "code",
   "execution_count": 851,
   "metadata": {},
   "outputs": [
    {
     "output_type": "execute_result",
     "data": {
      "text/plain": "                                                   Namn  1 vecka  1 mån  \\\n1                        Alpha Dividende Plus UCITS ETF    -2.00  -2.69   \n2     Bank of China International (BOCI) Commerzbank...     0.18   0.99   \n3     BlackRock iShares Core Global Aggregate Bond U...     0.62  -0.43   \n4        BlackRock iShares FTSE MIB UCITS ETF EUR (Acc)    -1.47  -0.79   \n5     BlackRock iShares MSCI UK Small Cap UCITS ETF ...    -1.26   1.22   \n...                                                 ...      ...    ...   \n997           Xtrackers USD Corporate Bond UCITS ETF 1D     2.47  -1.45   \n998   Xtrackers USD Corporate Bond UCITS ETF 2D EUR ...     0.31  -2.27   \n999   Xtrackers USD Emerging Markets Bond Quality We...     1.37  -0.93   \n1000  Xtrackers USD Emerging Markets Bond Quality We...     0.00  -0.86   \n1001  Xtrackers USD High Yield Corporate Bond UCITS ...     0.30  -1.03   \n\n      3 mån   i år   1 år   3 år  5 år  Return ranking sum  return ranking  \\\n1    -10.74 -19.55 -18.49 -18.10   NaN              4758.0           926.0   \n2     12.49   3.54   5.82  16.56   NaN               930.0            22.0   \n3      1.15   3.43   1.83    NaN   NaN              1458.0            90.0   \n4     -3.54 -16.74 -10.19  -3.57  2.40              4395.0           890.0   \n5     -5.22 -24.97  -7.54  -4.74 -5.42              4038.0           840.0   \n...     ...    ...    ...    ...   ...                 ...             ...   \n997   -4.46  -0.55  -0.75  14.34   NaN              2438.0           466.0   \n998   -2.12   1.58   1.76   2.59   NaN              2502.0           487.0   \n999   -4.34  -6.72  -7.17   1.99   NaN              3102.0           670.0   \n1000  -6.84  -8.58  -8.30 -10.13   NaN              3726.0           791.0   \n1001  -9.24  -9.96  -8.42    NaN   NaN              3249.0           699.0   \n\n      avg return ranking  never returned negative  \n1                  956.0                    False  \n2                   16.0                    False  \n3                  167.0                    False  \n4                  830.0                    False  \n5                  753.0                    False  \n...                  ...                      ...  \n997                474.0                    False  \n998                497.0                    False  \n999                664.0                    False  \n1000               820.0                    False  \n1001               854.0                    False  \n\n[979 rows x 12 columns]",
      "text/html": "<div>\n<style scoped>\n    .dataframe tbody tr th:only-of-type {\n        vertical-align: middle;\n    }\n\n    .dataframe tbody tr th {\n        vertical-align: top;\n    }\n\n    .dataframe thead th {\n        text-align: right;\n    }\n</style>\n<table border=\"1\" class=\"dataframe\">\n  <thead>\n    <tr style=\"text-align: right;\">\n      <th></th>\n      <th>Namn</th>\n      <th>1 vecka</th>\n      <th>1 mån</th>\n      <th>3 mån</th>\n      <th>i år</th>\n      <th>1 år</th>\n      <th>3 år</th>\n      <th>5 år</th>\n      <th>Return ranking sum</th>\n      <th>return ranking</th>\n      <th>avg return ranking</th>\n      <th>never returned negative</th>\n    </tr>\n  </thead>\n  <tbody>\n    <tr>\n      <th>1</th>\n      <td>Alpha Dividende Plus UCITS ETF</td>\n      <td>-2.00</td>\n      <td>-2.69</td>\n      <td>-10.74</td>\n      <td>-19.55</td>\n      <td>-18.49</td>\n      <td>-18.10</td>\n      <td>NaN</td>\n      <td>4758.0</td>\n      <td>926.0</td>\n      <td>956.0</td>\n      <td>False</td>\n    </tr>\n    <tr>\n      <th>2</th>\n      <td>Bank of China International (BOCI) Commerzbank...</td>\n      <td>0.18</td>\n      <td>0.99</td>\n      <td>12.49</td>\n      <td>3.54</td>\n      <td>5.82</td>\n      <td>16.56</td>\n      <td>NaN</td>\n      <td>930.0</td>\n      <td>22.0</td>\n      <td>16.0</td>\n      <td>False</td>\n    </tr>\n    <tr>\n      <th>3</th>\n      <td>BlackRock iShares Core Global Aggregate Bond U...</td>\n      <td>0.62</td>\n      <td>-0.43</td>\n      <td>1.15</td>\n      <td>3.43</td>\n      <td>1.83</td>\n      <td>NaN</td>\n      <td>NaN</td>\n      <td>1458.0</td>\n      <td>90.0</td>\n      <td>167.0</td>\n      <td>False</td>\n    </tr>\n    <tr>\n      <th>4</th>\n      <td>BlackRock iShares FTSE MIB UCITS ETF EUR (Acc)</td>\n      <td>-1.47</td>\n      <td>-0.79</td>\n      <td>-3.54</td>\n      <td>-16.74</td>\n      <td>-10.19</td>\n      <td>-3.57</td>\n      <td>2.40</td>\n      <td>4395.0</td>\n      <td>890.0</td>\n      <td>830.0</td>\n      <td>False</td>\n    </tr>\n    <tr>\n      <th>5</th>\n      <td>BlackRock iShares MSCI UK Small Cap UCITS ETF ...</td>\n      <td>-1.26</td>\n      <td>1.22</td>\n      <td>-5.22</td>\n      <td>-24.97</td>\n      <td>-7.54</td>\n      <td>-4.74</td>\n      <td>-5.42</td>\n      <td>4038.0</td>\n      <td>840.0</td>\n      <td>753.0</td>\n      <td>False</td>\n    </tr>\n    <tr>\n      <th>...</th>\n      <td>...</td>\n      <td>...</td>\n      <td>...</td>\n      <td>...</td>\n      <td>...</td>\n      <td>...</td>\n      <td>...</td>\n      <td>...</td>\n      <td>...</td>\n      <td>...</td>\n      <td>...</td>\n      <td>...</td>\n    </tr>\n    <tr>\n      <th>997</th>\n      <td>Xtrackers USD Corporate Bond UCITS ETF 1D</td>\n      <td>2.47</td>\n      <td>-1.45</td>\n      <td>-4.46</td>\n      <td>-0.55</td>\n      <td>-0.75</td>\n      <td>14.34</td>\n      <td>NaN</td>\n      <td>2438.0</td>\n      <td>466.0</td>\n      <td>474.0</td>\n      <td>False</td>\n    </tr>\n    <tr>\n      <th>998</th>\n      <td>Xtrackers USD Corporate Bond UCITS ETF 2D EUR ...</td>\n      <td>0.31</td>\n      <td>-2.27</td>\n      <td>-2.12</td>\n      <td>1.58</td>\n      <td>1.76</td>\n      <td>2.59</td>\n      <td>NaN</td>\n      <td>2502.0</td>\n      <td>487.0</td>\n      <td>497.0</td>\n      <td>False</td>\n    </tr>\n    <tr>\n      <th>999</th>\n      <td>Xtrackers USD Emerging Markets Bond Quality We...</td>\n      <td>1.37</td>\n      <td>-0.93</td>\n      <td>-4.34</td>\n      <td>-6.72</td>\n      <td>-7.17</td>\n      <td>1.99</td>\n      <td>NaN</td>\n      <td>3102.0</td>\n      <td>670.0</td>\n      <td>664.0</td>\n      <td>False</td>\n    </tr>\n    <tr>\n      <th>1000</th>\n      <td>Xtrackers USD Emerging Markets Bond Quality We...</td>\n      <td>0.00</td>\n      <td>-0.86</td>\n      <td>-6.84</td>\n      <td>-8.58</td>\n      <td>-8.30</td>\n      <td>-10.13</td>\n      <td>NaN</td>\n      <td>3726.0</td>\n      <td>791.0</td>\n      <td>820.0</td>\n      <td>False</td>\n    </tr>\n    <tr>\n      <th>1001</th>\n      <td>Xtrackers USD High Yield Corporate Bond UCITS ...</td>\n      <td>0.30</td>\n      <td>-1.03</td>\n      <td>-9.24</td>\n      <td>-9.96</td>\n      <td>-8.42</td>\n      <td>NaN</td>\n      <td>NaN</td>\n      <td>3249.0</td>\n      <td>699.0</td>\n      <td>854.0</td>\n      <td>False</td>\n    </tr>\n  </tbody>\n</table>\n<p>979 rows × 12 columns</p>\n</div>"
     },
     "metadata": {},
     "execution_count": 851
    }
   ],
   "source": [
    "df"
   ]
  },
  {
   "cell_type": "code",
   "execution_count": 1046,
   "metadata": {},
   "outputs": [
    {
     "output_type": "execute_result",
     "data": {
      "text/plain": "                                                  Namn  1 vecka  1 mån  3 mån  \\\n2    Bank of China International (BOCI) Commerzbank...     0.18   0.99  12.49   \n87                      Franklin FTSE Korea UCITS ETF      4.38   0.38   3.25   \n88          Franklin Liberty Euro Green Bond UCITS ETF     0.79   0.02   2.93   \n113    Invesco Euro Government Bond 5-7 Year UCITS ETF     0.26   0.06   1.76   \n161  Invesco STOXX Europe 600 Optimised Chemicals U...     0.70   2.98   6.56   \n204                          iShares $ TIPS UCITS ETF      1.12   0.08   0.93   \n330  iShares EUR Ultrashort Bond ESG UCITS ETF EUR ...     0.08   0.22   0.83   \n359  iShares J.P. Morgan USD EM Corp Bond UCITS ETF...     0.20   0.16   4.87   \n474  iShares STOXX Europe 600 Chemicals UCITS ETF (DE)     0.57   2.67   6.06   \n557           Lyxor Core US TIPS (DR) UCITS ETF - Dist     1.19   0.07   0.46   \n605  Lyxor Index Fund-Lyxor Stoxx Europe 600 Chemic...     0.44   2.96   6.46   \n691  Multi Lyxor Euro Corporate Bond Ex Financials ...     0.46   0.17   1.16   \n800                                        XACT OMXS30     0.96   2.47   3.38   \n801                  XACT Svenska Småbolag (UCITS ETF)     1.06   2.92   9.86   \n832  Xtrackers iBoxx USD Corporate Bond Yield Plus ...     1.05   0.46   5.34   \n883  Xtrackers II USD Emerging Markets Bond UCITS E...     1.35   0.77   0.27   \n\n     i år   1 år   3 år   5 år  Return ranking sum  return ranking  \\\n2    3.54   5.82  16.56    NaN               930.0            22.0   \n87   0.31  22.59    NaN    NaN               735.0             9.0   \n88   2.77   0.06    NaN    NaN              1227.0            49.0   \n113  1.17    NaN    NaN    NaN              1158.0            40.0   \n161  2.97  13.10  25.63  45.37               638.0             3.0   \n204  3.87   2.07  19.17  18.45              1528.0           118.0   \n330   NaN    NaN    NaN    NaN              1047.0            28.0   \n359   NaN    NaN    NaN    NaN               825.0            15.0   \n474  3.59  13.88  19.71  29.19               787.0            13.0   \n557  3.35   1.67  16.64    NaN              1422.0            78.0   \n605  4.30  15.67    NaN    NaN               499.0             2.0   \n691  0.77   0.05    NaN    NaN              1444.0            84.0   \n800  1.69  13.09  25.63  42.61               765.0            12.0   \n801  6.83  19.81  54.60    NaN               312.0             1.0   \n832  4.99   7.10    NaN    NaN               692.0             7.0   \n883   NaN    NaN    NaN    NaN               676.0             5.0   \n\n     avg return ranking  never returned negative  never_returned_negative  \n2                  16.0                     True                     True  \n87                 12.0                     True                     True  \n88                 77.0                     True                     True  \n113               160.0                     True                     True  \n161                 2.0                     True                     True  \n204                42.0                     True                     True  \n330               322.0                     True                     True  \n359               129.0                     True                     True  \n474                 8.0                     True                     True  \n557                65.0                     True                     True  \n605                 4.0                     True                     True  \n691               158.0                     True                     True  \n800                 7.0                     True                     True  \n801                 1.0                     True                     True  \n832                10.0                     True                     True  \n883                51.0                     True                     True  ",
      "text/html": "<div>\n<style scoped>\n    .dataframe tbody tr th:only-of-type {\n        vertical-align: middle;\n    }\n\n    .dataframe tbody tr th {\n        vertical-align: top;\n    }\n\n    .dataframe thead th {\n        text-align: right;\n    }\n</style>\n<table border=\"1\" class=\"dataframe\">\n  <thead>\n    <tr style=\"text-align: right;\">\n      <th></th>\n      <th>Namn</th>\n      <th>1 vecka</th>\n      <th>1 mån</th>\n      <th>3 mån</th>\n      <th>i år</th>\n      <th>1 år</th>\n      <th>3 år</th>\n      <th>5 år</th>\n      <th>Return ranking sum</th>\n      <th>return ranking</th>\n      <th>avg return ranking</th>\n      <th>never returned negative</th>\n      <th>never_returned_negative</th>\n    </tr>\n  </thead>\n  <tbody>\n    <tr>\n      <th>2</th>\n      <td>Bank of China International (BOCI) Commerzbank...</td>\n      <td>0.18</td>\n      <td>0.99</td>\n      <td>12.49</td>\n      <td>3.54</td>\n      <td>5.82</td>\n      <td>16.56</td>\n      <td>NaN</td>\n      <td>930.0</td>\n      <td>22.0</td>\n      <td>16.0</td>\n      <td>True</td>\n      <td>True</td>\n    </tr>\n    <tr>\n      <th>87</th>\n      <td>Franklin FTSE Korea UCITS ETF</td>\n      <td>4.38</td>\n      <td>0.38</td>\n      <td>3.25</td>\n      <td>0.31</td>\n      <td>22.59</td>\n      <td>NaN</td>\n      <td>NaN</td>\n      <td>735.0</td>\n      <td>9.0</td>\n      <td>12.0</td>\n      <td>True</td>\n      <td>True</td>\n    </tr>\n    <tr>\n      <th>88</th>\n      <td>Franklin Liberty Euro Green Bond UCITS ETF</td>\n      <td>0.79</td>\n      <td>0.02</td>\n      <td>2.93</td>\n      <td>2.77</td>\n      <td>0.06</td>\n      <td>NaN</td>\n      <td>NaN</td>\n      <td>1227.0</td>\n      <td>49.0</td>\n      <td>77.0</td>\n      <td>True</td>\n      <td>True</td>\n    </tr>\n    <tr>\n      <th>113</th>\n      <td>Invesco Euro Government Bond 5-7 Year UCITS ETF</td>\n      <td>0.26</td>\n      <td>0.06</td>\n      <td>1.76</td>\n      <td>1.17</td>\n      <td>NaN</td>\n      <td>NaN</td>\n      <td>NaN</td>\n      <td>1158.0</td>\n      <td>40.0</td>\n      <td>160.0</td>\n      <td>True</td>\n      <td>True</td>\n    </tr>\n    <tr>\n      <th>161</th>\n      <td>Invesco STOXX Europe 600 Optimised Chemicals U...</td>\n      <td>0.70</td>\n      <td>2.98</td>\n      <td>6.56</td>\n      <td>2.97</td>\n      <td>13.10</td>\n      <td>25.63</td>\n      <td>45.37</td>\n      <td>638.0</td>\n      <td>3.0</td>\n      <td>2.0</td>\n      <td>True</td>\n      <td>True</td>\n    </tr>\n    <tr>\n      <th>204</th>\n      <td>iShares $ TIPS UCITS ETF</td>\n      <td>1.12</td>\n      <td>0.08</td>\n      <td>0.93</td>\n      <td>3.87</td>\n      <td>2.07</td>\n      <td>19.17</td>\n      <td>18.45</td>\n      <td>1528.0</td>\n      <td>118.0</td>\n      <td>42.0</td>\n      <td>True</td>\n      <td>True</td>\n    </tr>\n    <tr>\n      <th>330</th>\n      <td>iShares EUR Ultrashort Bond ESG UCITS ETF EUR ...</td>\n      <td>0.08</td>\n      <td>0.22</td>\n      <td>0.83</td>\n      <td>NaN</td>\n      <td>NaN</td>\n      <td>NaN</td>\n      <td>NaN</td>\n      <td>1047.0</td>\n      <td>28.0</td>\n      <td>322.0</td>\n      <td>True</td>\n      <td>True</td>\n    </tr>\n    <tr>\n      <th>359</th>\n      <td>iShares J.P. Morgan USD EM Corp Bond UCITS ETF...</td>\n      <td>0.20</td>\n      <td>0.16</td>\n      <td>4.87</td>\n      <td>NaN</td>\n      <td>NaN</td>\n      <td>NaN</td>\n      <td>NaN</td>\n      <td>825.0</td>\n      <td>15.0</td>\n      <td>129.0</td>\n      <td>True</td>\n      <td>True</td>\n    </tr>\n    <tr>\n      <th>474</th>\n      <td>iShares STOXX Europe 600 Chemicals UCITS ETF (DE)</td>\n      <td>0.57</td>\n      <td>2.67</td>\n      <td>6.06</td>\n      <td>3.59</td>\n      <td>13.88</td>\n      <td>19.71</td>\n      <td>29.19</td>\n      <td>787.0</td>\n      <td>13.0</td>\n      <td>8.0</td>\n      <td>True</td>\n      <td>True</td>\n    </tr>\n    <tr>\n      <th>557</th>\n      <td>Lyxor Core US TIPS (DR) UCITS ETF - Dist</td>\n      <td>1.19</td>\n      <td>0.07</td>\n      <td>0.46</td>\n      <td>3.35</td>\n      <td>1.67</td>\n      <td>16.64</td>\n      <td>NaN</td>\n      <td>1422.0</td>\n      <td>78.0</td>\n      <td>65.0</td>\n      <td>True</td>\n      <td>True</td>\n    </tr>\n    <tr>\n      <th>605</th>\n      <td>Lyxor Index Fund-Lyxor Stoxx Europe 600 Chemic...</td>\n      <td>0.44</td>\n      <td>2.96</td>\n      <td>6.46</td>\n      <td>4.30</td>\n      <td>15.67</td>\n      <td>NaN</td>\n      <td>NaN</td>\n      <td>499.0</td>\n      <td>2.0</td>\n      <td>4.0</td>\n      <td>True</td>\n      <td>True</td>\n    </tr>\n    <tr>\n      <th>691</th>\n      <td>Multi Lyxor Euro Corporate Bond Ex Financials ...</td>\n      <td>0.46</td>\n      <td>0.17</td>\n      <td>1.16</td>\n      <td>0.77</td>\n      <td>0.05</td>\n      <td>NaN</td>\n      <td>NaN</td>\n      <td>1444.0</td>\n      <td>84.0</td>\n      <td>158.0</td>\n      <td>True</td>\n      <td>True</td>\n    </tr>\n    <tr>\n      <th>800</th>\n      <td>XACT OMXS30</td>\n      <td>0.96</td>\n      <td>2.47</td>\n      <td>3.38</td>\n      <td>1.69</td>\n      <td>13.09</td>\n      <td>25.63</td>\n      <td>42.61</td>\n      <td>765.0</td>\n      <td>12.0</td>\n      <td>7.0</td>\n      <td>True</td>\n      <td>True</td>\n    </tr>\n    <tr>\n      <th>801</th>\n      <td>XACT Svenska Småbolag (UCITS ETF)</td>\n      <td>1.06</td>\n      <td>2.92</td>\n      <td>9.86</td>\n      <td>6.83</td>\n      <td>19.81</td>\n      <td>54.60</td>\n      <td>NaN</td>\n      <td>312.0</td>\n      <td>1.0</td>\n      <td>1.0</td>\n      <td>True</td>\n      <td>True</td>\n    </tr>\n    <tr>\n      <th>832</th>\n      <td>Xtrackers iBoxx USD Corporate Bond Yield Plus ...</td>\n      <td>1.05</td>\n      <td>0.46</td>\n      <td>5.34</td>\n      <td>4.99</td>\n      <td>7.10</td>\n      <td>NaN</td>\n      <td>NaN</td>\n      <td>692.0</td>\n      <td>7.0</td>\n      <td>10.0</td>\n      <td>True</td>\n      <td>True</td>\n    </tr>\n    <tr>\n      <th>883</th>\n      <td>Xtrackers II USD Emerging Markets Bond UCITS E...</td>\n      <td>1.35</td>\n      <td>0.77</td>\n      <td>0.27</td>\n      <td>NaN</td>\n      <td>NaN</td>\n      <td>NaN</td>\n      <td>NaN</td>\n      <td>676.0</td>\n      <td>5.0</td>\n      <td>51.0</td>\n      <td>True</td>\n      <td>True</td>\n    </tr>\n  </tbody>\n</table>\n</div>"
     },
     "metadata": {},
     "execution_count": 1046
    }
   ],
   "source": [
    "#(df.iloc[:,1:7].isnan() ).all(1, skipna=True)\n",
    "import math\n",
    "df['never returned negative'] = df.iloc[:,1:8].applymap(lambda x: True if math.isnan(x) or x>0 else False).all(1)\n",
    "df[df['never returned negative']==True]"
   ]
  },
  {
   "cell_type": "code",
   "execution_count": 1029,
   "metadata": {},
   "outputs": [
    {
     "output_type": "execute_result",
     "data": {
      "text/plain": "1       False\n2        True\n3       False\n4       False\n5       False\n        ...  \n997     False\n998     False\n999     False\n1000    False\n1001    False\nLength: 979, dtype: bool"
     },
     "metadata": {},
     "execution_count": 1029
    }
   ],
   "source": [
    "df_temp.all(1)"
   ]
  },
  {
   "cell_type": "code",
   "execution_count": 14,
   "metadata": {
    "tags": []
   },
   "outputs": [
    {
     "output_type": "error",
     "ename": "NameError",
     "evalue": "name '__file__' is not defined",
     "traceback": [
      "\u001b[1;31m---------------------------------------------------------------------------\u001b[0m",
      "\u001b[1;31mNameError\u001b[0m                                 Traceback (most recent call last)",
      "\u001b[1;32m<ipython-input-14-2d09c8dca7b8>\u001b[0m in \u001b[0;36m<module>\u001b[1;34m\u001b[0m\n\u001b[1;32m----> 1\u001b[1;33m \u001b[0mpath\u001b[0m \u001b[1;33m=\u001b[0m \u001b[0mPath\u001b[0m\u001b[1;33m(\u001b[0m\u001b[0m__file__\u001b[0m\u001b[1;33m)\u001b[0m\u001b[1;33m.\u001b[0m\u001b[0mparent\u001b[0m\u001b[1;33m.\u001b[0m\u001b[0mabsolute\u001b[0m\u001b[1;33m(\u001b[0m\u001b[1;33m)\u001b[0m\u001b[1;33m\u001b[0m\u001b[1;33m\u001b[0m\u001b[0m\n\u001b[0m\u001b[0;32m      2\u001b[0m \u001b[1;31m#parent.absolute()\u001b[0m\u001b[1;33m\u001b[0m\u001b[1;33m\u001b[0m\u001b[1;33m\u001b[0m\u001b[0m\n\u001b[0;32m      3\u001b[0m \u001b[0mprint\u001b[0m\u001b[1;33m(\u001b[0m\u001b[0mpath\u001b[0m\u001b[1;33m)\u001b[0m\u001b[1;33m\u001b[0m\u001b[1;33m\u001b[0m\u001b[0m\n",
      "\u001b[1;31mNameError\u001b[0m: name '__file__' is not defined"
     ]
    }
   ],
   "source": [
    "path = Path(__file__).parent.absolute()\n",
    "#parent.absolute()\n",
    "print(path)"
   ]
  },
  {
   "cell_type": "code",
   "execution_count": 3,
   "metadata": {},
   "outputs": [],
   "source": [
    "from pathlib import Path"
   ]
  },
  {
   "cell_type": "code",
   "execution_count": 44,
   "metadata": {
    "tags": []
   },
   "outputs": [
    {
     "output_type": "stream",
     "name": "stdout",
     "text": "c:\\Users\\Gustaf\\PythonProjects\\NN_ETF_Scraper\n"
    }
   ],
   "source": [
    "path = Path().parent.absolute()\n",
    "print(path)\n",
    "csv_file_name = \"test_path.csv\""
   ]
  },
  {
   "cell_type": "code",
   "execution_count": 36,
   "metadata": {},
   "outputs": [
    {
     "output_type": "execute_result",
     "data": {
      "text/plain": "   x  y  z\n0  1  3  0\n1  2  4  0\n2  3  5  0",
      "text/html": "<div>\n<style scoped>\n    .dataframe tbody tr th:only-of-type {\n        vertical-align: middle;\n    }\n\n    .dataframe tbody tr th {\n        vertical-align: top;\n    }\n\n    .dataframe thead th {\n        text-align: right;\n    }\n</style>\n<table border=\"1\" class=\"dataframe\">\n  <thead>\n    <tr style=\"text-align: right;\">\n      <th></th>\n      <th>x</th>\n      <th>y</th>\n      <th>z</th>\n    </tr>\n  </thead>\n  <tbody>\n    <tr>\n      <th>0</th>\n      <td>1</td>\n      <td>3</td>\n      <td>0</td>\n    </tr>\n    <tr>\n      <th>1</th>\n      <td>2</td>\n      <td>4</td>\n      <td>0</td>\n    </tr>\n    <tr>\n      <th>2</th>\n      <td>3</td>\n      <td>5</td>\n      <td>0</td>\n    </tr>\n  </tbody>\n</table>\n</div>"
     },
     "metadata": {},
     "execution_count": 36
    }
   ],
   "source": [
    "import pandas as pd\n",
    "cleanframe  = pd.DataFrame({'x': [1, 2, 3], 'y': [3, 4, 5], 'z': [0,0,0]})\n",
    "cleanframe"
   ]
  },
  {
   "cell_type": "code",
   "execution_count": 48,
   "metadata": {},
   "outputs": [],
   "source": [
    "cleanframe.to_csv('' + str(path) + '\\\\' + csv_file_name)"
   ]
  },
  {
   "cell_type": "code",
   "execution_count": null,
   "metadata": {},
   "outputs": [],
   "source": []
  }
 ],
 "metadata": {
  "language_info": {
   "codemirror_mode": {
    "name": "ipython",
    "version": 3
   },
   "file_extension": ".py",
   "mimetype": "text/x-python",
   "name": "python",
   "nbconvert_exporter": "python",
   "pygments_lexer": "ipython3",
   "version": "3.8.1-final"
  },
  "orig_nbformat": 2,
  "kernelspec": {
   "name": "python38132bit901ae92180934f549df430ca56914ab3",
   "display_name": "Python 3.8.1 32-bit"
  }
 },
 "nbformat": 4,
 "nbformat_minor": 2
}